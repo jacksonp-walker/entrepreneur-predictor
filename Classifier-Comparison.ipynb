{
 "cells": [
  {
   "cell_type": "code",
   "execution_count": 1,
   "id": "a566c645",
   "metadata": {},
   "outputs": [],
   "source": [
    "import pandas as pd\n",
    "import sklearn as skl\n",
    "import numpy as np\n",
    "import os\n",
    "import plotly.express as px\n",
    "from joblib import dump, load\n",
    "from sklearn.feature_selection import SequentialFeatureSelector\n",
    "from sklearn.neural_network import MLPClassifier\n",
    "from sklearn.tree import DecisionTreeClassifier\n",
    "from imblearn.over_sampling import RandomOverSampler\n",
    "from imblearn.under_sampling import RandomUnderSampler\n",
    "from sklearn.model_selection import train_test_split\n",
    "from sklearn.metrics import classification_report\n",
    "from sklearn.tree import plot_tree\n",
    "from sklearn.model_selection import RandomizedSearchCV\n",
    "from sklearn.preprocessing import MinMaxScaler\n",
    "from sklearn.metrics import roc_auc_score\n",
    "from sklearn.metrics import accuracy_score\n",
    "from sklearn.metrics import confusion_matrix\n",
    "from sklearn.tree import DecisionTreeClassifier\n",
    "from sklearn.ensemble import RandomForestClassifier\n",
    "from imblearn.ensemble import BalancedBaggingClassifier\n",
    "from collections import Counter\n",
    "from matplotlib import pyplot as plt\n",
    "from time import time\n",
    "\n",
    "#### Models used\n",
    "from sklearn.ensemble import BaggingClassifier\n",
    "from sklearn.linear_model import SGDClassifier\n",
    "from sklearn.linear_model import LogisticRegression\n",
    "from sklearn.neural_network import MLPClassifier\n",
    "from sklearn.ensemble import RandomForestClassifier"
   ]
  },
  {
   "cell_type": "code",
   "execution_count": 2,
   "id": "ce523ad7",
   "metadata": {},
   "outputs": [],
   "source": [
    "def open_stata_file(filename):\n",
    "    try:\n",
    "        return pd.read_stata('{}/data/{}.dta'.format(os.getcwd(), filename), convert_categoricals=False)\n",
    "\n",
    "    except Exception as e:\n",
    "        print(\".{} file not found\".format(filename))\n",
    "        print(e)\n",
    "        \n",
    "def new_or_not(new_se, se4):\n",
    "    if new_se == 0 and se4 == 1:\n",
    "        return False\n",
    "    return True"
   ]
  },
  {
   "cell_type": "markdown",
   "id": "0af75ba1",
   "metadata": {},
   "source": [
    "### Prep Dataset"
   ]
  },
  {
   "cell_type": "code",
   "execution_count": 3,
   "id": "15e04a45",
   "metadata": {},
   "outputs": [
    {
     "name": "stderr",
     "output_type": "stream",
     "text": [
      "/var/folders/7k/8g_2fyfx6r3gg995w1lpnnwc0000gn/T/ipykernel_8546/2500658670.py:2: DtypeWarning: Columns (0) have mixed types. Specify dtype option on import or set low_memory=False.\n",
      "  dfs = [pd.read_csv(\"./data/test_pipeline_{}.csv\".format(year)) for year in years]\n",
      "/var/folders/7k/8g_2fyfx6r3gg995w1lpnnwc0000gn/T/ipykernel_8546/2500658670.py:2: DtypeWarning: Columns (0) have mixed types. Specify dtype option on import or set low_memory=False.\n",
      "  dfs = [pd.read_csv(\"./data/test_pipeline_{}.csv\".format(year)) for year in years]\n",
      "/var/folders/7k/8g_2fyfx6r3gg995w1lpnnwc0000gn/T/ipykernel_8546/2500658670.py:2: DtypeWarning: Columns (0) have mixed types. Specify dtype option on import or set low_memory=False.\n",
      "  dfs = [pd.read_csv(\"./data/test_pipeline_{}.csv\".format(year)) for year in years]\n",
      "/var/folders/7k/8g_2fyfx6r3gg995w1lpnnwc0000gn/T/ipykernel_8546/2500658670.py:2: DtypeWarning: Columns (0) have mixed types. Specify dtype option on import or set low_memory=False.\n",
      "  dfs = [pd.read_csv(\"./data/test_pipeline_{}.csv\".format(year)) for year in years]\n",
      "/var/folders/7k/8g_2fyfx6r3gg995w1lpnnwc0000gn/T/ipykernel_8546/2500658670.py:2: DtypeWarning: Columns (0) have mixed types. Specify dtype option on import or set low_memory=False.\n",
      "  dfs = [pd.read_csv(\"./data/test_pipeline_{}.csv\".format(year)) for year in years]\n"
     ]
    },
    {
     "name": "stdout",
     "output_type": "stream",
     "text": [
      "(388892, 37)\n"
     ]
    }
   ],
   "source": [
    "years = ['1415', '1516', '1617', '1718', '1819']\n",
    "dfs = [pd.read_csv(\"./data/test_pipeline_{}.csv\".format(year)) for year in years]\n",
    "\n",
    "training_columns = ['age', 'wbhaom', 'female', 'forborn', 'citizen', 'prcitshp', 'penatvty', 'pemntvty', 'pefntvty', 'first_gen', 'married', 'children', 'hoh79',\n",
    "                    'vet', 'lfstat', 'empl', 'unem', 'nilf', 'pubsect', 'union', 'multjob', 'state', 'metro', 'centcity', 'suburb', 'rural', 'educ92',\n",
    "                    'college', 'ind_2d', 'ind_m03', 'docc03', 'occ_m03', 'full_time', 'paidhre', 'prhrusl', 'rw_ot', 'new_se']\n",
    "\n",
    "fr10 = ['married', 'pubsect', 'union', 'multjob', 'state', 'ind_2d', 'docc03', 'paidhre', 'prhrusl', 'rw_ot']\n",
    "\n",
    "for i in range(len(dfs)):\n",
    "    df = dfs[i]\n",
    "    df = df.loc[np.vectorize(new_or_not)(df['new_se'], df['se4'])]\n",
    "    df = df[training_columns]\n",
    "    df = df.replace(np.nan, 0)\n",
    "    dfs[i] = df\n",
    "\n",
    "df = pd.concat(dfs)\n",
    "df = df.reset_index()\n",
    "df = df.drop('index', axis=1)\n",
    "print(df.shape)"
   ]
  },
  {
   "cell_type": "code",
   "execution_count": 4,
   "id": "c182c002",
   "metadata": {},
   "outputs": [],
   "source": [
    "def to_csv(df, filename):\n",
    "    df.to_csv('{}/data/{}.csv'.format(os.getcwd(), filename))\n",
    "    print(filename + '.csv successfully saved')"
   ]
  },
  {
   "cell_type": "code",
   "execution_count": 5,
   "id": "0eda4596",
   "metadata": {},
   "outputs": [
    {
     "name": "stdout",
     "output_type": "stream",
     "text": [
      "5yr_dataset.csv successfully saved\n"
     ]
    }
   ],
   "source": [
    "# to_csv(df, \"5yr_dataset\")"
   ]
  },
  {
   "cell_type": "code",
   "execution_count": 6,
   "id": "5e1ee0f4",
   "metadata": {},
   "outputs": [
    {
     "data": {
      "text/html": [
       "<div>\n",
       "<style scoped>\n",
       "    .dataframe tbody tr th:only-of-type {\n",
       "        vertical-align: middle;\n",
       "    }\n",
       "\n",
       "    .dataframe tbody tr th {\n",
       "        vertical-align: top;\n",
       "    }\n",
       "\n",
       "    .dataframe thead th {\n",
       "        text-align: right;\n",
       "    }\n",
       "</style>\n",
       "<table border=\"1\" class=\"dataframe\">\n",
       "  <thead>\n",
       "    <tr style=\"text-align: right;\">\n",
       "      <th></th>\n",
       "      <th>Unnamed: 0</th>\n",
       "      <th>age</th>\n",
       "      <th>wbhaom</th>\n",
       "      <th>female</th>\n",
       "      <th>forborn</th>\n",
       "      <th>citizen</th>\n",
       "      <th>prcitshp</th>\n",
       "      <th>penatvty</th>\n",
       "      <th>pemntvty</th>\n",
       "      <th>pefntvty</th>\n",
       "      <th>...</th>\n",
       "      <th>college</th>\n",
       "      <th>ind_2d</th>\n",
       "      <th>ind_m03</th>\n",
       "      <th>docc03</th>\n",
       "      <th>occ_m03</th>\n",
       "      <th>full_time</th>\n",
       "      <th>paidhre</th>\n",
       "      <th>prhrusl</th>\n",
       "      <th>rw_ot</th>\n",
       "      <th>new_se</th>\n",
       "    </tr>\n",
       "  </thead>\n",
       "  <tbody>\n",
       "    <tr>\n",
       "      <th>0</th>\n",
       "      <td>0</td>\n",
       "      <td>61</td>\n",
       "      <td>2</td>\n",
       "      <td>1</td>\n",
       "      <td>0</td>\n",
       "      <td>1</td>\n",
       "      <td>1</td>\n",
       "      <td>57</td>\n",
       "      <td>57</td>\n",
       "      <td>57</td>\n",
       "      <td>...</td>\n",
       "      <td>1</td>\n",
       "      <td>40.0</td>\n",
       "      <td>10.0</td>\n",
       "      <td>8.0</td>\n",
       "      <td>2.0</td>\n",
       "      <td>1.0</td>\n",
       "      <td>0.0</td>\n",
       "      <td>4.0</td>\n",
       "      <td>20.787552</td>\n",
       "      <td>0</td>\n",
       "    </tr>\n",
       "    <tr>\n",
       "      <th>1</th>\n",
       "      <td>1</td>\n",
       "      <td>49</td>\n",
       "      <td>1</td>\n",
       "      <td>0</td>\n",
       "      <td>0</td>\n",
       "      <td>1</td>\n",
       "      <td>1</td>\n",
       "      <td>57</td>\n",
       "      <td>57</td>\n",
       "      <td>57</td>\n",
       "      <td>...</td>\n",
       "      <td>1</td>\n",
       "      <td>40.0</td>\n",
       "      <td>10.0</td>\n",
       "      <td>8.0</td>\n",
       "      <td>2.0</td>\n",
       "      <td>1.0</td>\n",
       "      <td>0.0</td>\n",
       "      <td>6.0</td>\n",
       "      <td>23.288980</td>\n",
       "      <td>0</td>\n",
       "    </tr>\n",
       "    <tr>\n",
       "      <th>2</th>\n",
       "      <td>2</td>\n",
       "      <td>19</td>\n",
       "      <td>1</td>\n",
       "      <td>0</td>\n",
       "      <td>0</td>\n",
       "      <td>1</td>\n",
       "      <td>1</td>\n",
       "      <td>57</td>\n",
       "      <td>57</td>\n",
       "      <td>57</td>\n",
       "      <td>...</td>\n",
       "      <td>0</td>\n",
       "      <td>45.0</td>\n",
       "      <td>11.0</td>\n",
       "      <td>13.0</td>\n",
       "      <td>3.0</td>\n",
       "      <td>1.0</td>\n",
       "      <td>1.0</td>\n",
       "      <td>6.0</td>\n",
       "      <td>15.678518</td>\n",
       "      <td>0</td>\n",
       "    </tr>\n",
       "    <tr>\n",
       "      <th>3</th>\n",
       "      <td>3</td>\n",
       "      <td>44</td>\n",
       "      <td>1</td>\n",
       "      <td>1</td>\n",
       "      <td>0</td>\n",
       "      <td>1</td>\n",
       "      <td>1</td>\n",
       "      <td>57</td>\n",
       "      <td>57</td>\n",
       "      <td>57</td>\n",
       "      <td>...</td>\n",
       "      <td>1</td>\n",
       "      <td>40.0</td>\n",
       "      <td>10.0</td>\n",
       "      <td>8.0</td>\n",
       "      <td>2.0</td>\n",
       "      <td>1.0</td>\n",
       "      <td>0.0</td>\n",
       "      <td>6.0</td>\n",
       "      <td>21.625542</td>\n",
       "      <td>0</td>\n",
       "    </tr>\n",
       "    <tr>\n",
       "      <th>4</th>\n",
       "      <td>4</td>\n",
       "      <td>54</td>\n",
       "      <td>1</td>\n",
       "      <td>1</td>\n",
       "      <td>0</td>\n",
       "      <td>1</td>\n",
       "      <td>1</td>\n",
       "      <td>57</td>\n",
       "      <td>57</td>\n",
       "      <td>57</td>\n",
       "      <td>...</td>\n",
       "      <td>0</td>\n",
       "      <td>17.0</td>\n",
       "      <td>4.0</td>\n",
       "      <td>20.0</td>\n",
       "      <td>8.0</td>\n",
       "      <td>0.0</td>\n",
       "      <td>1.0</td>\n",
       "      <td>4.0</td>\n",
       "      <td>16.219156</td>\n",
       "      <td>0</td>\n",
       "    </tr>\n",
       "    <tr>\n",
       "      <th>...</th>\n",
       "      <td>...</td>\n",
       "      <td>...</td>\n",
       "      <td>...</td>\n",
       "      <td>...</td>\n",
       "      <td>...</td>\n",
       "      <td>...</td>\n",
       "      <td>...</td>\n",
       "      <td>...</td>\n",
       "      <td>...</td>\n",
       "      <td>...</td>\n",
       "      <td>...</td>\n",
       "      <td>...</td>\n",
       "      <td>...</td>\n",
       "      <td>...</td>\n",
       "      <td>...</td>\n",
       "      <td>...</td>\n",
       "      <td>...</td>\n",
       "      <td>...</td>\n",
       "      <td>...</td>\n",
       "      <td>...</td>\n",
       "      <td>...</td>\n",
       "    </tr>\n",
       "    <tr>\n",
       "      <th>388887</th>\n",
       "      <td>388887</td>\n",
       "      <td>57</td>\n",
       "      <td>1</td>\n",
       "      <td>1</td>\n",
       "      <td>0</td>\n",
       "      <td>1</td>\n",
       "      <td>1</td>\n",
       "      <td>57</td>\n",
       "      <td>57</td>\n",
       "      <td>57</td>\n",
       "      <td>...</td>\n",
       "      <td>0</td>\n",
       "      <td>42.0</td>\n",
       "      <td>10.0</td>\n",
       "      <td>17.0</td>\n",
       "      <td>5.0</td>\n",
       "      <td>1.0</td>\n",
       "      <td>1.0</td>\n",
       "      <td>4.0</td>\n",
       "      <td>20.362396</td>\n",
       "      <td>0</td>\n",
       "    </tr>\n",
       "    <tr>\n",
       "      <th>388888</th>\n",
       "      <td>388888</td>\n",
       "      <td>61</td>\n",
       "      <td>1</td>\n",
       "      <td>0</td>\n",
       "      <td>0</td>\n",
       "      <td>1</td>\n",
       "      <td>1</td>\n",
       "      <td>57</td>\n",
       "      <td>57</td>\n",
       "      <td>57</td>\n",
       "      <td>...</td>\n",
       "      <td>1</td>\n",
       "      <td>44.0</td>\n",
       "      <td>11.0</td>\n",
       "      <td>12.0</td>\n",
       "      <td>3.0</td>\n",
       "      <td>1.0</td>\n",
       "      <td>1.0</td>\n",
       "      <td>4.0</td>\n",
       "      <td>20.555840</td>\n",
       "      <td>0</td>\n",
       "    </tr>\n",
       "    <tr>\n",
       "      <th>388889</th>\n",
       "      <td>388889</td>\n",
       "      <td>59</td>\n",
       "      <td>1</td>\n",
       "      <td>1</td>\n",
       "      <td>0</td>\n",
       "      <td>1</td>\n",
       "      <td>1</td>\n",
       "      <td>57</td>\n",
       "      <td>57</td>\n",
       "      <td>57</td>\n",
       "      <td>...</td>\n",
       "      <td>1</td>\n",
       "      <td>49.0</td>\n",
       "      <td>12.0</td>\n",
       "      <td>6.0</td>\n",
       "      <td>2.0</td>\n",
       "      <td>1.0</td>\n",
       "      <td>0.0</td>\n",
       "      <td>4.0</td>\n",
       "      <td>19.579206</td>\n",
       "      <td>0</td>\n",
       "    </tr>\n",
       "    <tr>\n",
       "      <th>388890</th>\n",
       "      <td>388890</td>\n",
       "      <td>36</td>\n",
       "      <td>1</td>\n",
       "      <td>0</td>\n",
       "      <td>0</td>\n",
       "      <td>1</td>\n",
       "      <td>1</td>\n",
       "      <td>57</td>\n",
       "      <td>57</td>\n",
       "      <td>57</td>\n",
       "      <td>...</td>\n",
       "      <td>1</td>\n",
       "      <td>19.0</td>\n",
       "      <td>4.0</td>\n",
       "      <td>1.0</td>\n",
       "      <td>1.0</td>\n",
       "      <td>1.0</td>\n",
       "      <td>0.0</td>\n",
       "      <td>6.0</td>\n",
       "      <td>34.886520</td>\n",
       "      <td>0</td>\n",
       "    </tr>\n",
       "    <tr>\n",
       "      <th>388891</th>\n",
       "      <td>388891</td>\n",
       "      <td>35</td>\n",
       "      <td>1</td>\n",
       "      <td>1</td>\n",
       "      <td>0</td>\n",
       "      <td>1</td>\n",
       "      <td>1</td>\n",
       "      <td>57</td>\n",
       "      <td>57</td>\n",
       "      <td>57</td>\n",
       "      <td>...</td>\n",
       "      <td>0</td>\n",
       "      <td>22.0</td>\n",
       "      <td>5.0</td>\n",
       "      <td>10.0</td>\n",
       "      <td>2.0</td>\n",
       "      <td>0.0</td>\n",
       "      <td>1.0</td>\n",
       "      <td>1.0</td>\n",
       "      <td>19.578444</td>\n",
       "      <td>0</td>\n",
       "    </tr>\n",
       "  </tbody>\n",
       "</table>\n",
       "<p>388892 rows × 38 columns</p>\n",
       "</div>"
      ],
      "text/plain": [
       "        Unnamed: 0  age  wbhaom  female  forborn  citizen  prcitshp  penatvty  \\\n",
       "0                0   61       2       1        0        1         1        57   \n",
       "1                1   49       1       0        0        1         1        57   \n",
       "2                2   19       1       0        0        1         1        57   \n",
       "3                3   44       1       1        0        1         1        57   \n",
       "4                4   54       1       1        0        1         1        57   \n",
       "...            ...  ...     ...     ...      ...      ...       ...       ...   \n",
       "388887      388887   57       1       1        0        1         1        57   \n",
       "388888      388888   61       1       0        0        1         1        57   \n",
       "388889      388889   59       1       1        0        1         1        57   \n",
       "388890      388890   36       1       0        0        1         1        57   \n",
       "388891      388891   35       1       1        0        1         1        57   \n",
       "\n",
       "        pemntvty  pefntvty  ...  college  ind_2d  ind_m03  docc03  occ_m03  \\\n",
       "0             57        57  ...        1    40.0     10.0     8.0      2.0   \n",
       "1             57        57  ...        1    40.0     10.0     8.0      2.0   \n",
       "2             57        57  ...        0    45.0     11.0    13.0      3.0   \n",
       "3             57        57  ...        1    40.0     10.0     8.0      2.0   \n",
       "4             57        57  ...        0    17.0      4.0    20.0      8.0   \n",
       "...          ...       ...  ...      ...     ...      ...     ...      ...   \n",
       "388887        57        57  ...        0    42.0     10.0    17.0      5.0   \n",
       "388888        57        57  ...        1    44.0     11.0    12.0      3.0   \n",
       "388889        57        57  ...        1    49.0     12.0     6.0      2.0   \n",
       "388890        57        57  ...        1    19.0      4.0     1.0      1.0   \n",
       "388891        57        57  ...        0    22.0      5.0    10.0      2.0   \n",
       "\n",
       "        full_time  paidhre  prhrusl      rw_ot  new_se  \n",
       "0             1.0      0.0      4.0  20.787552       0  \n",
       "1             1.0      0.0      6.0  23.288980       0  \n",
       "2             1.0      1.0      6.0  15.678518       0  \n",
       "3             1.0      0.0      6.0  21.625542       0  \n",
       "4             0.0      1.0      4.0  16.219156       0  \n",
       "...           ...      ...      ...        ...     ...  \n",
       "388887        1.0      1.0      4.0  20.362396       0  \n",
       "388888        1.0      1.0      4.0  20.555840       0  \n",
       "388889        1.0      0.0      4.0  19.579206       0  \n",
       "388890        1.0      0.0      6.0  34.886520       0  \n",
       "388891        0.0      1.0      1.0  19.578444       0  \n",
       "\n",
       "[388892 rows x 38 columns]"
      ]
     },
     "execution_count": 6,
     "metadata": {},
     "output_type": "execute_result"
    }
   ],
   "source": [
    "df1 = pd.read_csv(\"./data/5yr_dataset.csv\")\n",
    "df1"
   ]
  },
  {
   "cell_type": "markdown",
   "id": "038b6c35",
   "metadata": {},
   "source": [
    "### Undersample Datset & train_test_split"
   ]
  },
  {
   "cell_type": "code",
   "execution_count": 4,
   "id": "d7d4a878",
   "metadata": {},
   "outputs": [
    {
     "name": "stdout",
     "output_type": "stream",
     "text": [
      "Population per class value:  [(0, 376299), (1, 12593)]\n",
      "Under sampling population per class value:  [(0, 12593), (1, 12593)]\n"
     ]
    }
   ],
   "source": [
    "X = df.drop('new_se', axis=1)\n",
    "y = df['new_se']\n",
    "print(\"Population per class value: \", sorted(Counter(y).items()))\n",
    "\n",
    "rus = RandomUnderSampler(random_state=0)\n",
    "X_resampled, y_resampled = rus.fit_resample(X, y)\n",
    "print(\"Under sampling population per class value: \", sorted(Counter(y_resampled).items()))\n",
    "\n",
    "X_train, X_test, y_train, y_test = train_test_split(X_resampled, y_resampled, test_size=0.2, random_state=5)"
   ]
  },
  {
   "cell_type": "markdown",
   "id": "90652ba3",
   "metadata": {},
   "source": [
    "### train_test_split original data"
   ]
  },
  {
   "cell_type": "code",
   "execution_count": 25,
   "id": "de61e758",
   "metadata": {},
   "outputs": [
    {
     "name": "stdout",
     "output_type": "stream",
     "text": [
      "Population per class value:  [(0, 376299), (1, 12593)]\n"
     ]
    }
   ],
   "source": [
    "# X = df.drop('new_se', axis=1)\n",
    "# y = df['new_se']\n",
    "# print(\"Population per class value: \", sorted(Counter(y).items()))\n",
    "\n",
    "# X_train, X_test, y_train, y_test = train_test_split(X, y, test_size=0.2, random_state=5)"
   ]
  },
  {
   "cell_type": "markdown",
   "id": "5f6b90c4",
   "metadata": {},
   "source": [
    "### Feature Selection"
   ]
  },
  {
   "cell_type": "code",
   "execution_count": 9,
   "id": "770bdfe6",
   "metadata": {},
   "outputs": [],
   "source": [
    "# clf = DecisionTreeClassifier(max_depth=10, max_leaf_nodes=40,random_state=0)\n",
    "# tic_bwd = time()\n",
    "# sfs_backward = SequentialFeatureSelector(\n",
    "#     clf, n_features_to_select=10, direction=\"backward\"\n",
    "# ).fit(X_train, y_train)\n",
    "# toc_bwd = time()\n",
    "\n",
    "# print(\"Selected Features: \")\n",
    "# print(X.columns.values[sfs_backward.get_support()])\n",
    "# print(f\"Done in {toc_bwd - tic_bwd:.3f}s\")"
   ]
  },
  {
   "cell_type": "code",
   "execution_count": 10,
   "id": "c9d3b7c3",
   "metadata": {},
   "outputs": [],
   "source": [
    "# dtc20 = X.columns.values[sfs_backward.get_support()]\n",
    "# print(dtc20)"
   ]
  },
  {
   "cell_type": "code",
   "execution_count": 5,
   "id": "8ce7ead8",
   "metadata": {},
   "outputs": [],
   "source": [
    "train_cols = ['married', 'pubsect', 'union', 'multjob', 'state', 'ind_2d', 'docc03', 'paidhre',\n",
    "     'prhrusl', 'rw_ot']\n",
    "\n",
    "# ['female' 'pefntvty' 'married' 'empl' 'pubsect' 'multjob' 'ind_2d'\n",
    "#  'occ_m03' 'paidhre' 'rw_ot']\n",
    "\n",
    "# train_cols = ['wbhaom', 'female', 'penatvty', 'pefntvty', 'married', 'children', 'vet', 'empl',\n",
    "#  'nilf', 'pubsect', 'union', 'multjob', 'suburb', 'college', 'ind_2d', 'ind_m03',\n",
    "#  'occ_m03', 'full_time', 'paidhre', 'rw_ot']"
   ]
  },
  {
   "cell_type": "code",
   "execution_count": 17,
   "id": "3c1f4762",
   "metadata": {},
   "outputs": [],
   "source": [
    "# def MyFeatureSelector(clf):\n",
    "#     begin = time()\n",
    "#     feature_selection = SequentialFeatureSelector(\n",
    "#             clf, n_features_to_select=20, direction=\"backward\"\n",
    "#     ).fit(X_train, y_train)\n",
    "#     end = time()\n",
    "#     print(f\"Feature selection took {end-begin}\")\n",
    "#     return X.columns.values[feature_selection.get_support()]"
   ]
  },
  {
   "cell_type": "code",
   "execution_count": 26,
   "id": "9b7c8631",
   "metadata": {},
   "outputs": [],
   "source": [
    "# algorithms = []\n",
    "\n",
    "# # DTree\n",
    "# algorithms.append(DecisionTreeClassifier(max_depth=20, max_leaf_nodes=50, random_state=0))\n",
    "# # Bagged Ensemble (DTrees)\n",
    "# algorithms.append(BaggingClassifier(n_estimators = 100, random_state=0, max_features=15))\n",
    "# # MLP (Neural Network) Classifier\n",
    "# algorithms.append(MLPClassifier(solver='adam', alpha=1e-5, hidden_layer_sizes=(100,5), random_state=1, max_iter=20))\n",
    "# # Random Forest\n",
    "# algorithms.append(RandomForestClassifier(max_depth=20, random_state=0, max_features=20))\n",
    "\n",
    "# # SGD Classifier\n",
    "# algorithms.append(SGDClassifier(loss='hinge', max_iter=1000, tol=1e-3))\n",
    "# # Logistic Regression\n",
    "# algorithms.append(LogisticRegression(random_state=0))\n"
   ]
  },
  {
   "cell_type": "markdown",
   "id": "5e8adb2c",
   "metadata": {},
   "source": [
    "#### Decision Tree Clf"
   ]
  },
  {
   "cell_type": "code",
   "execution_count": 22,
   "id": "37d33579",
   "metadata": {},
   "outputs": [],
   "source": [
    "# selectedFeatures = []\n",
    "# for i in range(0, 1):\n",
    "#     clf = algorithms[i]\n",
    "    \n",
    "#     # Select features\n",
    "    \n",
    "#     features = MyFeatureSelector(clf)\n",
    "#     selectedFeatures.append(features)\n",
    "#     print(f\"Selected Features: \\n{features}\")\n",
    "    \n",
    "#     # Train and Test clf\n",
    "    \n",
    "#     features = selectedFeatures[i]\n",
    "#     clf.fit(X_train[features], y_train)\n",
    "    \n",
    "#     tn, fp, fn, tp = confusion_matrix(y_test, clf.predict(X_test[features])).ravel()\n",
    "#     print(f\"Recall: {tp/(tp+fn)}\")\n",
    "#     print(f\"Confusion Matrix:\\n tn: {tn} fn: {fn} tp: {tp} fp: {fp}\")\n",
    "    \n",
    "#     pred = clf.predict(X_test[features])\n",
    "#     print(classification_report(y_test, pred))"
   ]
  },
  {
   "cell_type": "markdown",
   "id": "79725f89",
   "metadata": {},
   "source": [
    "#### Bagged Ensemble"
   ]
  },
  {
   "cell_type": "code",
   "execution_count": 21,
   "id": "ebc89af4",
   "metadata": {},
   "outputs": [],
   "source": [
    "# clf = algorithms[1]\n",
    "    \n",
    "# # Select features\n",
    "    \n",
    "# features = MyFeatureSelector(clf)\n",
    "# selectedFeatures.append(features)\n",
    "# print(f\"Selected Features: \\n{features}\")\n",
    "    \n",
    "# # Train and Test clf\n",
    "    \n",
    "# features = selectedFeatures[i]\n",
    "# clf.fit(X_train[features], y_train)\n",
    "    \n",
    "# tn, fp, fn, tp = confusion_matrix(y_test, clf.predict(X_test[features])).ravel()\n",
    "# print(f\"Recall: {tp/(tp+fn)}\")\n",
    "# print(f\"Confusion Matrix:\\n tn: {tn} fn: {fn} tp: {tp} fp: {fp}\")\n",
    "    \n",
    "# pred = clf.predict(X_test[features])\n",
    "# print(classification_report(y_test, pred))"
   ]
  },
  {
   "cell_type": "code",
   "execution_count": 23,
   "id": "d809394a",
   "metadata": {},
   "outputs": [],
   "source": [
    "# clf = BalancedBaggingClassifier(n_estimators=100, random_state=0)\n",
    "\n",
    "# # Select features\n",
    "    \n",
    "# # features = MyFeatureSelector(clf)\n",
    "# # selectedFeatures.append(features)\n",
    "# # print(f\"Selected Features: \\n{features}\")\n",
    "    \n",
    "# # Train and Test clf\n",
    "    \n",
    "# features = train_cols\n",
    "# clf.fit(X_train[features], y_train)\n",
    "    \n",
    "# tn, fp, fn, tp = confusion_matrix(y_test, clf.predict(X_test[features])).ravel()\n",
    "# print(f\"Recall: {tp/(tp+fn)}\")\n",
    "# print(f\"Confusion Matrix:\\n tn: {tn} fn: {fn} tp: {tp} fp: {fp}\")\n",
    "    \n",
    "# pred = clf.predict(X_test[features])\n",
    "# print(classification_report(y_test, pred))"
   ]
  },
  {
   "cell_type": "code",
   "execution_count": 24,
   "id": "6c3c4c14",
   "metadata": {},
   "outputs": [],
   "source": [
    "# selectedFeatures = []\n",
    "\n",
    "# for clf in algorithms:\n",
    "#     features = MyFeatureSelector(clf)\n",
    "#     selectedFeatures.append(features)\n",
    "#     print(f\"Selected Features: \\n{features}\")"
   ]
  },
  {
   "cell_type": "code",
   "execution_count": 25,
   "id": "90faba77",
   "metadata": {},
   "outputs": [],
   "source": [
    "# for i in range(0, len(algorithms)):\n",
    "#     clf = algorithms[i]\n",
    "#     features = selectedFeatures[i]\n",
    "#     clf.fit(X_train[features], y_train)\n",
    "    \n",
    "#     tn, fp, fn, tp = confusion_matrix(y_test, clf.predict(X_test[features])).ravel()\n",
    "#     print(f\"Recall: {tp/(tp+fn)}\")\n",
    "#     print(f\"Confusion Matrix:\\n tn: {tn} fn: {fn} tp: {tp} fp: {fp}\")\n",
    "    \n",
    "#     pred = clf.predict(X_test[features])\n",
    "#     print(classification_report(y_test, pred))"
   ]
  },
  {
   "cell_type": "markdown",
   "id": "22d2399e",
   "metadata": {},
   "source": [
    "### UnderBagging"
   ]
  },
  {
   "cell_type": "code",
   "execution_count": null,
   "id": "c1c709ac",
   "metadata": {},
   "outputs": [],
   "source": []
  },
  {
   "cell_type": "markdown",
   "id": "190d5afb",
   "metadata": {},
   "source": [
    "### Decision Tree Classifier "
   ]
  },
  {
   "cell_type": "code",
   "execution_count": 28,
   "id": "b4b2bf00",
   "metadata": {},
   "outputs": [
    {
     "name": "stdout",
     "output_type": "stream",
     "text": [
      "Mean Accurancy:  0.6635569670504168\n",
      "AUROC:  0.7059165442590294\n",
      "Confusion Matrix\n",
      "tn: 1840 fn: 995 tp: 1503 fp: 700\n",
      "              precision    recall  f1-score   support\n",
      "\n",
      "           0       0.65      0.72      0.68      2540\n",
      "           1       0.68      0.60      0.64      2498\n",
      "\n",
      "    accuracy                           0.66      5038\n",
      "   macro avg       0.67      0.66      0.66      5038\n",
      "weighted avg       0.67      0.66      0.66      5038\n",
      "\n"
     ]
    }
   ],
   "source": [
    "dtc = DecisionTreeClassifier(max_depth=20, max_leaf_nodes=50, random_state=0).fit(X_train[train_cols], y_train)\n",
    "\n",
    "\n",
    "print(\"Mean Accurancy: \", dtc.score(X_test[train_cols], y_test))\n",
    "prob_y = dtc.predict_proba(X_test[train_cols])\n",
    "prob_y = [p[1] for p in prob_y]\n",
    "print(\"AUROC: \", roc_auc_score(y_test, prob_y))\n",
    "\n",
    "print(\"Confusion Matrix\")\n",
    "tn,fp, fn, tp = confusion_matrix(y_test, dtc.predict(X_test[train_cols])).ravel()\n",
    "print(\"tn:\", tn, \"fn:\", fn, \"tp:\", tp, \"fp:\", fp)\n",
    "\n",
    "y_pred = dtc.predict(X_test[train_cols])\n",
    "print(classification_report(y_test, y_pred))"
   ]
  },
  {
   "cell_type": "markdown",
   "id": "c808c1b8",
   "metadata": {},
   "source": [
    "### Bagging Classification (w/ D Trees)"
   ]
  },
  {
   "cell_type": "code",
   "execution_count": 38,
   "id": "e299ab81",
   "metadata": {},
   "outputs": [
    {
     "name": "stdout",
     "output_type": "stream",
     "text": [
      "Mean Accurancy:  0.684795553791187\n",
      "AUROC:  0.7377241951041147\n",
      "Confusion Matrix\n",
      "tn: 1773 fn: 821 tp: 1677 fp: 767\n",
      "              precision    recall  f1-score   support\n",
      "\n",
      "           0       0.68      0.70      0.69      2540\n",
      "           1       0.69      0.67      0.68      2498\n",
      "\n",
      "    accuracy                           0.68      5038\n",
      "   macro avg       0.68      0.68      0.68      5038\n",
      "weighted avg       0.68      0.68      0.68      5038\n",
      "\n"
     ]
    }
   ],
   "source": [
    "from sklearn.ensemble import BaggingClassifier\n",
    "# weakClf = DecisionTreeClassifier(max_depth=20, max_leaf_nodes=50, random_state=0).fit(X_train[train_cols], y_train)\n",
    "bagClf = BaggingClassifier( n_estimators = 75, random_state=0, max_features=10).fit(X_train, y_train)\n",
    "\n",
    "print(\"Mean Accurancy: \", bagClf.score(X_test, y_test))\n",
    "prob_y_2 = bagClf.predict_proba(X_test)\n",
    "prob_y_2 = [p[1] for p in prob_y_2]\n",
    "print(\"AUROC: \", roc_auc_score(y_test, prob_y_2))\n",
    "\n",
    "print(\"Confusion Matrix\")\n",
    "tn,fp, fn, tp = confusion_matrix(y_test, bagClf.predict(X_test)).ravel()\n",
    "print(\"tn:\", tn, \"fn:\", fn, \"tp:\", tp, \"fp:\", fp)\n",
    "\n",
    "y_pred2 = bagClf.predict(X_test)\n",
    "print(classification_report(y_test, y_pred2))\n"
   ]
  },
  {
   "cell_type": "code",
   "execution_count": 20,
   "id": "ee15c47e",
   "metadata": {},
   "outputs": [
    {
     "data": {
      "image/png": "[encoded data removed]",
      "text/plain": [
       "<Figure size 640x480 with 1 Axes>"
      ]
     },
     "metadata": {},
     "output_type": "display_data"
    }
   ],
   "source": [
    "import matplotlib.pyplot as plt\n",
    "import scikitplot as skplt\n",
    "prob_y_2 = bagClf.predict_proba(X_test)\n",
    "skplt.metrics.plot_roc(y_test, prob_y_2)\n",
    "plt.show()"
   ]
  },
  {
   "cell_type": "markdown",
   "id": "1f888171",
   "metadata": {},
   "source": [
    "### SGD Classifier"
   ]
  },
  {
   "cell_type": "code",
   "execution_count": 14,
   "id": "2e54d64f",
   "metadata": {},
   "outputs": [
    {
     "name": "stdout",
     "output_type": "stream",
     "text": [
      "Mean Accurancy:  0.5236204843191743\n",
      "Confusion Matrix\n",
      "tn: 322 fn: 182 tp: 2316 fp: 2218\n",
      "              precision    recall  f1-score   support\n",
      "\n",
      "           0       0.64      0.13      0.21      2540\n",
      "           1       0.51      0.93      0.66      2498\n",
      "\n",
      "    accuracy                           0.52      5038\n",
      "   macro avg       0.57      0.53      0.44      5038\n",
      "weighted avg       0.58      0.52      0.43      5038\n",
      "\n"
     ]
    }
   ],
   "source": [
    "from sklearn.linear_model import SGDClassifier\n",
    "# from sklearn.preprocessing import StandardScaler\n",
    "# from sklearn.pipeline import make_pipeline\n",
    "\n",
    "SGDclf = SGDClassifier(loss='hinge', max_iter=1000, tol=1e-3)\n",
    "SGDclf.fit(X_train[train_cols], y_train)\n",
    "\n",
    "print(\"Mean Accurancy: \", SGDclf.score(X_test[train_cols], y_test))\n",
    "# prob_y_2 = SGDclf.predict_proba(X_test)\n",
    "# prob_y_2 = [p[1] for p in prob_y_2]\n",
    "# print(\"AUROC: \", roc_auc_score(y_test, prob_y_2))\n",
    "\n",
    "print(\"Confusion Matrix\")\n",
    "tn,fp, fn, tp = confusion_matrix(y_test, SGDclf.predict(X_test[train_cols])).ravel()\n",
    "print(\"tn:\", tn, \"fn:\", fn, \"tp:\", tp, \"fp:\", fp)\n",
    "\n",
    "y_pred2 = SGDclf.predict(X_test[train_cols])\n",
    "print(classification_report(y_test, y_pred2))"
   ]
  },
  {
   "cell_type": "markdown",
   "id": "80ffa019",
   "metadata": {},
   "source": [
    "### Logistic Regression"
   ]
  },
  {
   "cell_type": "code",
   "execution_count": 15,
   "id": "954d8f26",
   "metadata": {},
   "outputs": [
    {
     "name": "stdout",
     "output_type": "stream",
     "text": [
      "Mean Accurancy:  0.6278285033743549\n",
      "AUROC:  0.6697194763684964\n",
      "Confusion Matrix\n",
      "tn: 1719 fn: 1054 tp: 1444 fp: 821\n",
      "              precision    recall  f1-score   support\n",
      "\n",
      "           0       0.62      0.68      0.65      2540\n",
      "           1       0.64      0.58      0.61      2498\n",
      "\n",
      "    accuracy                           0.63      5038\n",
      "   macro avg       0.63      0.63      0.63      5038\n",
      "weighted avg       0.63      0.63      0.63      5038\n",
      "\n"
     ]
    },
    {
     "name": "stderr",
     "output_type": "stream",
     "text": [
      "/Users/jacksonp.walker/anaconda3/lib/python3.10/site-packages/sklearn/linear_model/_logistic.py:458: ConvergenceWarning: lbfgs failed to converge (status=1):\n",
      "STOP: TOTAL NO. of ITERATIONS REACHED LIMIT.\n",
      "\n",
      "Increase the number of iterations (max_iter) or scale the data as shown in:\n",
      "    https://scikit-learn.org/stable/modules/preprocessing.html\n",
      "Please also refer to the documentation for alternative solver options:\n",
      "    https://scikit-learn.org/stable/modules/linear_model.html#logistic-regression\n",
      "  n_iter_i = _check_optimize_result(\n"
     ]
    }
   ],
   "source": [
    "from sklearn.linear_model import LogisticRegression\n",
    "\n",
    "LRclf = LogisticRegression(random_state=0).fit(X_train[train_cols], y_train)\n",
    "\n",
    "print(\"Mean Accurancy: \", LRclf.score(X_test[train_cols], y_test))\n",
    "prob_y_2 = LRclf.predict_proba(X_test[train_cols])\n",
    "prob_y_2 = [p[1] for p in prob_y_2]\n",
    "print(\"AUROC: \", roc_auc_score(y_test, prob_y_2))\n",
    "\n",
    "print(\"Confusion Matrix\")\n",
    "tn,fp, fn, tp = confusion_matrix(y_test, LRclf.predict(X_test[train_cols])).ravel()\n",
    "print(\"tn:\", tn, \"fn:\", fn, \"tp:\", tp, \"fp:\", fp)\n",
    "\n",
    "y_pred2 = LRclf.predict(X_test[train_cols])\n",
    "print(classification_report(y_test, y_pred2))"
   ]
  },
  {
   "cell_type": "markdown",
   "id": "48d48b23",
   "metadata": {},
   "source": [
    "### MLP NN Classifier"
   ]
  },
  {
   "cell_type": "code",
   "execution_count": 16,
   "id": "2af6b724",
   "metadata": {},
   "outputs": [
    {
     "name": "stdout",
     "output_type": "stream",
     "text": [
      "Mean Accurancy:  0.6345772131798333\n",
      "AUROC:  0.6848158054002257\n",
      "Confusion Matrix\n",
      "tn: 1813 fn: 1114 tp: 1384 fp: 727\n",
      "              precision    recall  f1-score   support\n",
      "\n",
      "           0       0.62      0.71      0.66      2540\n",
      "           1       0.66      0.55      0.60      2498\n",
      "\n",
      "    accuracy                           0.63      5038\n",
      "   macro avg       0.64      0.63      0.63      5038\n",
      "weighted avg       0.64      0.63      0.63      5038\n",
      "\n"
     ]
    },
    {
     "name": "stderr",
     "output_type": "stream",
     "text": [
      "/Users/jacksonp.walker/anaconda3/lib/python3.10/site-packages/sklearn/neural_network/_multilayer_perceptron.py:686: ConvergenceWarning: Stochastic Optimizer: Maximum iterations (20) reached and the optimization hasn't converged yet.\n",
      "  warnings.warn(\n"
     ]
    }
   ],
   "source": [
    "from sklearn.neural_network import MLPClassifier\n",
    "mlp = MLPClassifier(solver='adam', alpha=1e-5, hidden_layer_sizes=(100,5), random_state=1, max_iter=20).fit(X_train[train_cols], y_train)\n",
    "\n",
    "print(\"Mean Accurancy: \", mlp.score(X_test[train_cols], y_test))\n",
    "prob_y_2 = mlp.predict_proba(X_test[train_cols])\n",
    "prob_y_2 = [p[1] for p in prob_y_2]\n",
    "print(\"AUROC: \", roc_auc_score(y_test, prob_y_2))\n",
    "\n",
    "print(\"Confusion Matrix\")\n",
    "tn,fp, fn, tp = confusion_matrix(y_test, mlp.predict(X_test[train_cols])).ravel()\n",
    "print(\"tn:\", tn, \"fn:\", fn, \"tp:\", tp, \"fp:\", fp)\n",
    "\n",
    "y_pred2 = mlp.predict(X_test[train_cols])\n",
    "print(classification_report(y_test, y_pred2))"
   ]
  },
  {
   "cell_type": "markdown",
   "id": "688a4e09",
   "metadata": {},
   "source": [
    "### Random Forest"
   ]
  },
  {
   "cell_type": "code",
   "execution_count": 17,
   "id": "3c8aa4ff",
   "metadata": {},
   "outputs": [
    {
     "name": "stdout",
     "output_type": "stream",
     "text": [
      "Mean Accurancy:  0.6740770146883684\n",
      "AUROC:  0.7343842790768047\n",
      "Confusion Matrix\n",
      "tn: 1784 fn: 886 tp: 1612 fp: 756\n",
      "              precision    recall  f1-score   support\n",
      "\n",
      "           0       0.67      0.70      0.68      2540\n",
      "           1       0.68      0.65      0.66      2498\n",
      "\n",
      "    accuracy                           0.67      5038\n",
      "   macro avg       0.67      0.67      0.67      5038\n",
      "weighted avg       0.67      0.67      0.67      5038\n",
      "\n"
     ]
    }
   ],
   "source": [
    "from sklearn.ensemble import RandomForestClassifier\n",
    "rfc = RandomForestClassifier(max_depth=20, random_state=0, max_features=20).fit(X_train, y_train)\n",
    "\n",
    "print(\"Mean Accurancy: \", rfc.score(X_test, y_test))\n",
    "prob_y_2 = rfc.predict_proba(X_test)\n",
    "prob_y_2 = [p[1] for p in prob_y_2]\n",
    "print(\"AUROC: \", roc_auc_score(y_test, prob_y_2))\n",
    "\n",
    "print(\"Confusion Matrix\")\n",
    "tn,fp, fn, tp = confusion_matrix(y_test, rfc.predict(X_test)).ravel()\n",
    "print(\"tn:\", tn, \"fn:\", fn, \"tp:\", tp, \"fp:\", fp)\n",
    "\n",
    "y_pred2 = rfc.predict(X_test)\n",
    "print(classification_report(y_test, y_pred2))"
   ]
  },
  {
   "cell_type": "code",
   "execution_count": null,
   "id": "e40df9ed",
   "metadata": {},
   "outputs": [],
   "source": []
  }
 ],
 "metadata": {
  "kernelspec": {
   "display_name": "Python 3 (ipykernel)",
   "language": "python",
   "name": "python3"
  },
  "language_info": {
   "codemirror_mode": {
    "name": "ipython",
    "version": 3
   },
   "file_extension": ".py",
   "mimetype": "text/x-python",
   "name": "python",
   "nbconvert_exporter": "python",
   "pygments_lexer": "ipython3",
   "version": "3.10.9"
  }
 },
 "nbformat": 4,
 "nbformat_minor": 5
}
